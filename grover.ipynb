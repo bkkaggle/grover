{
  "nbformat": 4,
  "nbformat_minor": 0,
  "metadata": {
    "colab": {
      "name": "Untitled0.ipynb",
      "version": "0.3.2",
      "provenance": [],
      "collapsed_sections": [],
      "include_colab_link": true
    },
    "kernelspec": {
      "name": "python3",
      "display_name": "Python 3"
    },
    "accelerator": "GPU"
  },
  "cells": [
    {
      "cell_type": "markdown",
      "metadata": {
        "id": "view-in-github",
        "colab_type": "text"
      },
      "source": [
        "<a href=\"https://colab.research.google.com/github/bkkaggle/grover/blob/master/grover.ipynb\" target=\"_parent\"><img src=\"https://colab.research.google.com/assets/colab-badge.svg\" alt=\"Open In Colab\"/></a>"
      ]
    },
    {
      "cell_type": "code",
      "metadata": {
        "id": "vMIVWsivwDF5",
        "colab_type": "code",
        "colab": {
          "base_uri": "https://localhost:8080/",
          "height": 272
        },
        "cellView": "form",
        "outputId": "b523825c-3d68-46e3-a4c3-49c4da85b66b"
      },
      "source": [
        "#@title\n",
        "\n",
        "import os\n",
        "import json\n",
        "import subprocess\n",
        "\n",
        "!git clone https://github.com/bkkaggle/grover.git\n",
        "\n",
        "os.chdir('grover/')\n",
        "\n",
        "!pip install -r requirements-gpu.txt\n",
        "!python download_model.py base\n",
        "\n",
        "def generate(title, author, date, domain, checkpoint=\"models/base/model.ckpt\"):\n",
        "    params = {\n",
        "        \"url\": \"\",\n",
        "        \"url_used\": \"\",\n",
        "        \"title\": f\"{title}\",\n",
        "        \"text\": \"\",\n",
        "        \"summary\": \"\",\n",
        "        \"authors\": [f\"{author}\"],\n",
        "        \"publish_date\": f\"{date}\",\n",
        "        \"domain\": f\"{domain}\",\n",
        "        \"warc_date\": \"\",\n",
        "        \"status\": \"\",\n",
        "        \"split\": \"gen\",\n",
        "        \"inst_index\": 1,\n",
        "    }\n",
        "\n",
        "    print(\"\\nParameters:\\n\")\n",
        "    print(f\"Title: {title}\")\n",
        "    print(f\"Author: {author}\")\n",
        "    print(f\"Date: {date}\")\n",
        "    print(f\"Domain: {domain}\")\n",
        "    print(f\"Checkpoint: {checkpoint}\")\n",
        "\n",
        "    with open(\"params.jsonl\", \"w\") as f:\n",
        "        json.dump(params, f)\n",
        "\n",
        "    subprocess.run(\n",
        "        f\"PYTHONPATH=$(pwd) python sample/contextual_generate.py -model_config_fn lm/configs/base.json -model_ckpt {checkpoint} -metadata_fn params.jsonl -out_fn generated.jsonl\",\n",
        "        stdout=open(os.devnull, \"w\"),\n",
        "        stderr=subprocess.STDOUT,\n",
        "        shell=True,\n",
        "    )\n",
        "\n",
        "    with open(\"generated.jsonl\") as f:\n",
        "        data = json.load(f)\n",
        "        print(\"\\nGenerated text:\\n\")\n",
        "        print(data[\"gens_article\"][0])\n",
        "\n",
        "    os.system(\"rm params.jsonl\")\n",
        "    os.system(\"rm generated.jsonl\")\n"
      ],
      "execution_count": 1,
      "outputs": [
        {
          "output_type": "stream",
          "text": [
            "  Found existing installation: tqdm 4.28.1\n",
            "    Uninstalling tqdm-4.28.1:\n",
            "      Successfully uninstalled tqdm-4.28.1\n",
            "  Found existing installation: requests 2.21.0\n",
            "    Uninstalling requests-2.21.0:\n",
            "      Successfully uninstalled requests-2.21.0\n",
            "Successfully installed h5py-2.9.0 mock-3.0.5 numpy-1.16.2 regex-2019.4.14 requests-2.22.0 tensorboard-1.13.1 tensorflow-estimator-1.13.0 tensorflow-gpu-1.13.1 tqdm-4.31.1\n"
          ],
          "name": "stdout"
        },
        {
          "output_type": "display_data",
          "data": {
            "application/vnd.colab-display-data+json": {
              "pip_warning": {
                "packages": [
                  "numpy",
                  "requests",
                  "tqdm"
                ]
              }
            }
          },
          "metadata": {
            "tags": []
          }
        },
        {
          "output_type": "stream",
          "text": [
            "Just downloaded base/model.ckpt.data-00000-of-00001!\n",
            "Just downloaded base/model.ckpt.index!\n",
            "Just downloaded base/model.ckpt.meta!\n"
          ],
          "name": "stdout"
        }
      ]
    },
    {
      "cell_type": "code",
      "metadata": {
        "id": "asS5-kUyxjZr",
        "colab_type": "code",
        "colab": {
          "base_uri": "https://localhost:8080/",
          "height": 343
        },
        "outputId": "11ca94df-358b-4a82-813b-c53ffebeb9c5"
      },
      "source": [
        "generate('Why Bitcoin is a great investment', 'Paul Krugman', '08-31-2019', 'nytimes.com')"
      ],
      "execution_count": 3,
      "outputs": [
        {
          "output_type": "stream",
          "text": [
            "\n",
            "Parameters:\n",
            "\n",
            "Title: Why Bitcoin is a great investment\n",
            "Author: Paul Krugman\n",
            "Date: 08-31-2019\n",
            "Domain: nytimes.com\n",
            "Checkpoint: models/base/model.ckpt\n",
            "\n",
            "Generated text:\n",
            "\n",
            "In 2017, I encountered a new client whose bank had just gone bankrupt. It wasn’t so much that I was new to Bitcoin, but that I was unfamiliar with other forms of money — it was that she had been buying it on over-the-counter (OTC) deals, among other things. This is fine, if you have already bought Bitcoin, but the idea of cryptocurrency is just too good to pass up.\n",
            "Bitcoin coins. Photograph: Ossio Goulín via Shutterstock\n",
            "Ms. Loiseau, who lives in France, just bought a white one from IKEA, then sold it to another Russian savings bank in December, and it gave her a cool, nearly 1,800 bitcoin. The 25-cent difference, she said, was enough to buy 100,000 other bitcoins, but the difference in size is negligible: it made them worth only a fraction of what the new product value was.\n",
            "She said she noticed that she saw her coins trading for almost twice as much before they were sold, so she assumed she’d spent a lot of time with them, and she wouldn’t have to bother worrying about the balances. “I knew I wasn’t under any pressure,” she said.\n",
            "Still, given how much there’s been in the world of Bitcoin at the moment, IKEA has its own tricks to deter you from buying it.\n",
            "As soon as she heard IKEA was buying the tiny paper currency, she said, she would tell the staff at her house the opposite way they approach them: “They ask me the same questions all the time, and we’ll know what to do about it.”\n",
            "\n"
          ],
          "name": "stdout"
        }
      ]
    }
  ]
}